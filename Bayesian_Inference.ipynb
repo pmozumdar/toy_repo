{
 "cells": [
  {
   "cell_type": "code",
   "execution_count": 1,
   "metadata": {},
   "outputs": [],
   "source": [
    "import numpy as np\n",
    "import matplotlib.pyplot as plt\n",
    "import scipy as sc\n",
    "from scipy.stats import norm"
   ]
  },
  {
   "cell_type": "code",
   "execution_count": 2,
   "metadata": {},
   "outputs": [],
   "source": [
    "def generate_data(num_data_points):  \n",
    "    '''\n",
    "    This function generate and return data samples from\n",
    "    a normal distribution\n",
    "    \n",
    "    Parameters\n",
    "    -----------\n",
    "    num_data_points: int\n",
    "        number of data points needs to be generated\n",
    "        \n",
    "    Returns\n",
    "    ---------\n",
    "    data: list\n",
    "        Returns a 1D list of samples\n",
    "    '''\n",
    "    \n",
    "    data =  np.random.randn(num_data_points)\n",
    "    \n",
    "    return data"
   ]
  },
  {
   "cell_type": "code",
   "execution_count": 3,
   "metadata": {},
   "outputs": [],
   "source": [
    "def proposal(current_proposal, proposal_width=0.2):\n",
    "    '''\n",
    "    This function generate a new proposal based on the current\n",
    "    proposal\n",
    "    \n",
    "    Parameters\n",
    "    -----------\n",
    "    current_proposal: float\n",
    "        The current value of the parameter for which in the \n",
    "        MCMC chain. This will be the mean of the normal \n",
    "        distribution from which we are drawing a random sample.\n",
    "    \n",
    "    proposal_width: float\n",
    "        The variance of the normal distribution from whcich \n",
    "        we are drawing a random sample. The value of the width\n",
    "        tells how big the next step could be from the current \n",
    "        value which is mean of the distribution.\n",
    "        \n",
    "    Returns\n",
    "    ---------\n",
    "    next_proposal: float\n",
    "        The radom number drawn from the normal distribution to \n",
    "        be considered as the next value of the parameter.\n",
    "    '''\n",
    "    \n",
    "    next_proposal = np.random.normal(current_proposal, proposal_width)\n",
    "        \n",
    "    return next_proposal"
   ]
  },
  {
   "cell_type": "markdown",
   "metadata": {},
   "source": [
    "### As our prior has an uniform distribution so our posterior is just the likelihood"
   ]
  },
  {
   "cell_type": "code",
   "execution_count": 4,
   "metadata": {},
   "outputs": [],
   "source": [
    "def likelihood(proposal,data):\n",
    "    ''''\n",
    "    This function evaluates the likelihood.\n",
    "    \n",
    "    Parameters\n",
    "    ----------\n",
    "    proposal: float\n",
    "        The proposed value(of the parameter) to evaluate it's\n",
    "        likelihood.\n",
    "        \n",
    "    data: list\n",
    "        The data to help evaluating the likelihood of the\n",
    "        proposal.\n",
    "\n",
    "\n",
    "    Returns\n",
    "    -------\n",
    "    prob: float\n",
    "        The probabilty of the proposal to be the actual\n",
    "        parameter.\n",
    "    '''\n",
    "    \n",
    "    length = len(data)\n",
    "    normalization = np.sqrt(np.log(proposal)/2/np.pi)**length\n",
    "    prob = normalization * proposal**(-0.5*sum(data**2))\n",
    "    \n",
    "    return prob\n"
   ]
  },
  {
   "cell_type": "code",
   "execution_count": 5,
   "metadata": {},
   "outputs": [],
   "source": [
    "def generate_MCMC_chain(sample_number, data, \n",
    "                        initial_proposal= 1.5):\n",
    "    '''\n",
    "    This function generates and return a MCMC chain\n",
    "    \n",
    "    Parameters\n",
    "    -----------\n",
    "    sample_number: int\n",
    "        Number of samples one wants to draw \n",
    "        \n",
    "    data: int\n",
    "        number of data points one wants to use in evaluating\n",
    "        likelihood.\n",
    "    \n",
    "    initial_proposal: float\n",
    "        The initial proposed point from where the chain can \n",
    "        start.\n",
    "        \n",
    "    Returns\n",
    "    --------\n",
    "    posterior_chain: list\n",
    "        A list of samples drawm from MCMC chain\n",
    "    '''\n",
    "    \n",
    "    posterior_chain = []\n",
    "    data =  data\n",
    "    current_proposal = initial_proposal\n",
    "    \n",
    "    for i in range(sample_number):\n",
    "        \n",
    "        next_proposal = proposal(current_proposal) \n",
    "            \n",
    "        current_proposal_likelihood = likelihood(current_proposal,\n",
    "                                                 data)\n",
    "        next_proposal_likelihood = likelihood(next_proposal,\n",
    "                                                 data)\n",
    "        likelihood_ratio = (next_proposal_likelihood\n",
    "                           / current_proposal_likelihood)\n",
    " \n",
    "        acceptance_probabilty = min(1.0, likelihood_ratio)\n",
    "\n",
    "        acceptance = np.random.uniform() <= acceptance_probabilty \n",
    "        if acceptance:\n",
    "            current_proposal = next_proposal\n",
    "            posterior_chain = np.append(posterior_chain, next_proposal)\n",
    "        else:\n",
    "            current_proposal = current_proposal\n",
    "            posterior_chain = np.append(posterior_chain, current_proposal)\n",
    "    \n",
    "    return posterior_chain\n",
    "\n",
    "\n"
   ]
  },
  {
   "cell_type": "markdown",
   "metadata": {},
   "source": [
    "### Here we are generating data (given the number of data points) to use both for analytical calculation and MCMC method. "
   ]
  },
  {
   "cell_type": "code",
   "execution_count": 6,
   "metadata": {},
   "outputs": [],
   "source": [
    "data = generate_data(100)"
   ]
  },
  {
   "cell_type": "markdown",
   "metadata": {},
   "source": [
    "### Plotting the analytically calulated posterior density of the parameter 'a'. "
   ]
  },
  {
   "cell_type": "code",
   "execution_count": 7,
   "metadata": {},
   "outputs": [
    {
     "data": {
      "image/png": "[encoded data removed]",
      "text/plain": [
       "<Figure size 432x288 with 1 Axes>"
      ]
     },
     "metadata": {
      "needs_background": "light"
     },
     "output_type": "display_data"
    }
   ],
   "source": [
    "parameter_space = np.linspace(1.0, 8.0, 1000)\n",
    "\n",
    "posterior = likelihood(parameter_space, data)\n",
    "\n",
    "plt.plot(parameter_space, posterior)\n",
    "plt.xlabel('a')\n",
    "plt.ylabel(r'P(a|{x})')\n",
    "plt.show()\n"
   ]
  },
  {
   "cell_type": "markdown",
   "metadata": {},
   "source": [
    "### Generating MCMC chain and plotting the \"trace plot\""
   ]
  },
  {
   "cell_type": "code",
   "execution_count": 8,
   "metadata": {},
   "outputs": [
    {
     "data": {
      "text/plain": [
       "[<matplotlib.lines.Line2D at 0x7fbc09607e50>]"
      ]
     },
     "execution_count": 8,
     "metadata": {},
     "output_type": "execute_result"
    },
    {
     "data": {
      "image/png": "[encoded data removed]",
      "text/plain": [
       "<Figure size 432x288 with 1 Axes>"
      ]
     },
     "metadata": {
      "needs_background": "light"
     },
     "output_type": "display_data"
    }
   ],
   "source": [
    "posterior_chain = generate_MCMC_chain(30000, data, 5.0)\n",
    "plt.plot(posterior_chain)"
   ]
  },
  {
   "cell_type": "markdown",
   "metadata": {},
   "source": [
    "### Plotting the histogram and comparing with analytical posterior "
   ]
  },
  {
   "cell_type": "code",
   "execution_count": 11,
   "metadata": {},
   "outputs": [
    {
     "data": {
      "image/png": "[encoded data removed]",
      "text/plain": [
       "<Figure size 432x288 with 1 Axes>"
      ]
     },
     "metadata": {
      "needs_background": "light"
     },
     "output_type": "display_data"
    }
   ],
   "source": [
    "plt.hist(posterior_chain, bins='auto', density=True)\n",
    "plt.plot(parameter_space,posterior/np.sqrt(np.sum(posterior**2)))\n",
    "plt.vlines(x=np.median(posterior_chain), ymin=0.0, ymax=1.0,\n",
    "           color='k',label=\"MCMC mean\")\n",
    "plt.vlines(x=parameter_space[posterior.argmax()], ymin=0.0, ymax=1.0,\n",
    "           color='r', label=\"Analytic mean\" )\n",
    "plt.vlines(x=2.718, ymin=0.0, ymax=1.0, color='g', label=\"True value\")\n",
    "plt.xlabel('a')\n",
    "plt.ylabel(r'P(a|{x})')\n",
    "plt.legend()\n",
    "plt.show()"
   ]
  },
  {
   "cell_type": "code",
   "execution_count": null,
   "metadata": {},
   "outputs": [],
   "source": []
  }
 ],
 "metadata": {
  "kernelspec": {
   "display_name": "Python 3",
   "language": "python",
   "name": "python3"
  },
  "language_info": {
   "codemirror_mode": {
    "name": "ipython",
    "version": 3
   },
   "file_extension": ".py",
   "mimetype": "text/x-python",
   "name": "python",
   "nbconvert_exporter": "python",
   "pygments_lexer": "ipython3",
   "version": "3.7.4"
  }
 },
 "nbformat": 4,
 "nbformat_minor": 4
}
